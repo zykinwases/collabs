{
 "cells": [
  {
   "cell_type": "code",
   "execution_count": 1,
   "metadata": {},
   "outputs": [],
   "source": [
    "import psycopg2\n",
    "import requests\n",
    "import json\n",
    "from tqdm import tqdm\n",
    "import datetime\n",
    "from datetime import date\n",
    "from datetime import timedelta\n",
    "import copy\n",
    "import numpy as np\n",
    "import math\n",
    "import itertools"
   ]
  },
  {
   "cell_type": "markdown",
   "metadata": {},
   "source": [
    "Psql - class to work with Postgresql"
   ]
  },
  {
   "cell_type": "code",
   "execution_count": 2,
   "metadata": {},
   "outputs": [],
   "source": [
    "class Pgscl(object):\n",
    "    def __init__(self):\n",
    "        self.__conn = psycopg2.connect(dbname='inspirehep', user='postgres', password='qwerty', host='localhost')\n",
    "        self.__cursor = self.__conn.cursor()\n",
    "        self.__conn.autocommit = True\n",
    "        print('Connection established')\n",
    "    def __del__(self):\n",
    "        self.__cursor.close()\n",
    "        self.__conn.close()\n",
    "        print('Connection closed')\n",
    "    def insert(self, json):\n",
    "        self.__cursor.execute(\"INSERT INTO articles_json VALUES(%s)\", (json,))\n",
    "    def clean(self):\n",
    "        self.__cursor.execute(\"DELETE FROM articles_json\")\n",
    "        print('Deleted')\n",
    "    def parse_json(self):\n",
    "        self.__cursor.execute(\"CREATE TABLE IF NOT EXISTS articles (recid INTEGER, reference JSON, title TEXT, publication_date INT, authors JSON)\")\n",
    "        self.__cursor.execute(\"INSERT INTO articles SELECT (json->>'recid')::int, json->'reference', json->'title'->>'title', (json->'publication_info'->>'year')::int, json->'authors' FROM articles_json\")\n",
    "        return\n",
    "    def del_dups(self):\n",
    "        self.__cursor.execute(\"SELECT min(articles.ctid) as pgid, recid, count(articles.ctid) as num FROM articles \" + \n",
    "                              \"GROUP BY recid ORDER BY num DESC\")\n",
    "        res = copy.deepcopy(tuple(self.__cursor))\n",
    "        for row in res:\n",
    "            if row[2] == 1:\n",
    "                return\n",
    "            self.__cursor.execute(\"DELETE FROM articles WHERE (recid = %s) AND (articles.ctid != %s)\", \n",
    "                                  (row[1], row[0]))\n",
    "        return\n",
    "    #поглощение (можно сделать чуть более общим)\n",
    "    def Form_graph_absorb(self):\n",
    "        self.__cursor.execute(\"SELECT recid FROM articles_nice\")\n",
    "        collab = np.zeros((7151, 7151))\n",
    "        pbar = tqdm(total = 193172)\n",
    "        res = copy.deepcopy(tuple(self.__cursor))\n",
    "        for row in res:\n",
    "            aff = []\n",
    "            self.__cursor.execute(\"SELECT uni_ids FROM art_auth WHERE article_id = %s\", (int(row[0]), ))\n",
    "            for row1 in self.__cursor:\n",
    "                aff += [row1[0]]\n",
    "            for i in range(0, len(aff)):\n",
    "                aff[i] = set(aff[i])\n",
    "            for i in range(0, len(aff)):\n",
    "                for j in range(0, len(aff)):\n",
    "                    if aff[i] < aff[j]:\n",
    "                        aff[j] = aff[i]\n",
    "            i = 0\n",
    "            while i < len(aff):\n",
    "                for j in range(0, len(aff)):\n",
    "                    if (i != j) and (aff[i] == aff[j]):\n",
    "                        aff[j] = set()\n",
    "                while aff.count(set()):\n",
    "                    aff.remove(set())\n",
    "                i = i + 1\n",
    "            if (len(aff) > 1):\n",
    "                tmp = np.zeros((7151, 7151))\n",
    "                for i in range(0, len(aff)):\n",
    "                    for j in range(i+1, len(aff)):\n",
    "                        for lol in itertools.product(aff[i], aff[j]):\n",
    "                            tmp[lol[0]][lol[1]] = 1\n",
    "                collab += tmp\n",
    "                del tmp\n",
    "            pbar.update(1)\n",
    "        for i in range(0, 7151):\n",
    "            for j in range(i+1, 7151):\n",
    "                if (collab[i][j] + collab[j][i] > 0):\n",
    "                    self.__cursor.execute(\"INSERT INTO collab VALUES(%s, %s, %s)\", (i, j, collab[i][j] + collab[j][i]))\n",
    "        return\n",
    "    #объединение\n",
    "    def Form_graph_un(self):\n",
    "        self.__cursor.execute(\"SELECT recid FROM articles_nice\")\n",
    "        collab = np.zeros((7151, 7151))\n",
    "        pbar = tqdm(total = 193172)\n",
    "        res = copy.deepcopy(tuple(self.__cursor))\n",
    "        for row in res:\n",
    "            aff = []\n",
    "            self.__cursor.execute(\"SELECT uni_ids FROM art_auth WHERE article_id = %s\", (int(row[0]), ))\n",
    "            for row1 in self.__cursor:\n",
    "                aff += [row1[0]]\n",
    "            for i in range(0, len(aff)):\n",
    "                aff[i] = set(aff[i])\n",
    "            for i in range(0, len(aff)):\n",
    "                for j in range(0, len(aff)):\n",
    "                    if aff[i] & aff[j]:\n",
    "                        aff[i] |= aff[j]\n",
    "                        aff[j] = aff[i]\n",
    "            i = 0\n",
    "            while i < len(aff):\n",
    "                for j in range(0, len(aff)):\n",
    "                    if (i != j) and (aff[i] == aff[j]):\n",
    "                        aff[j] = set()\n",
    "                while aff.count(set()):\n",
    "                    aff.remove(set())\n",
    "                i = i + 1\n",
    "            if (len(aff) > 1):\n",
    "                tmp = np.zeros((7151, 7151))\n",
    "                for i in range(0, len(aff)):\n",
    "                    for j in range(i+1, len(aff)):\n",
    "                        for lol in itertools.product(aff[i], aff[j]):\n",
    "                            tmp[lol[0]][lol[1]] = 1\n",
    "                collab += tmp\n",
    "                del tmp\n",
    "            pbar.update(1)\n",
    "        for i in range(0, 7151):\n",
    "            for j in range(i+1, 7151):\n",
    "                if (collab[i][j] + collab[j][i] > 0):\n",
    "                    self.__cursor.execute(\"INSERT INTO collab VALUES(%s, %s, %s)\", (i+1, j+1, collab[i][j] + collab[j][i]))\n",
    "        return\n",
    "    #graph for two unis\n",
    "    def Form_two_uni(self, uni1, uni2):\n",
    "        u1 = None\n",
    "        u2 = None\n",
    "        self.__cursor.execute(\"SELECT aff_id FROM universities WHERE affiliation = %s\", (\"\\\"\" + uni1 + \"\\\"\", ))\n",
    "        for row in self.__cursor:\n",
    "            u1 = row[0]\n",
    "        if u1 is None:\n",
    "            print(\"First institute does not exist.\")\n",
    "            return\n",
    "        self.__cursor.execute(\"SELECT aff_id FROM universities WHERE affiliation = %s\", (\"\\\"\" + uni2 + \"\\\"\", ))\n",
    "        for row in self.__cursor:\n",
    "            u2 = row[0]\n",
    "        if u2 is None:\n",
    "            print(\"Second institute does not exist.\")\n",
    "            return\n",
    "        self.__cursor.execute(\"SELECT recid FROM articles_nice\")\n",
    "        res = copy.deepcopy(tuple(self.__cursor))\n",
    "        pbar = tqdm(total = 193172)\n",
    "        for row in res:\n",
    "            auth = []\n",
    "            self.__cursor.execute(\"SELECT author_id, uni_ids FROM art_auth WHERE article_id = %s\", (int(row[0]), ))\n",
    "            for row1 in self.__cursor:\n",
    "                if row1[1].count(u1) != 0 or row1[1].count(u2) != 0:\n",
    "                    auth.append(row1[0])\n",
    "            if len(auth) > 1:\n",
    "                for lol in itertools.product(auth, auth):\n",
    "                    if lol[0] < lol[1]:\n",
    "                        self.__cursor.execute(\"INSERT INTO collab1 VALUES(%s, %s, 1) \" + \\\n",
    "                                              \"ON CONFLICT ON CONSTRAINT collab1_pkey DO \" + \\\n",
    "                                              \"UPDATE SET num = collab1.num + excluded.num\", \n",
    "                                              (lol[0], lol[1]))\n",
    "            pbar.update(1)\n",
    "        return\n",
    "        "
   ]
  },
  {
   "cell_type": "markdown",
   "metadata": {},
   "source": [
    "Code that forms graph table (source, target, weight)"
   ]
  },
  {
   "cell_type": "code",
   "execution_count": null,
   "metadata": {
    "scrolled": false
   },
   "outputs": [],
   "source": [
    "try:\n",
    "    pg = Pgscl()\n",
    "    pg.Form_graph_absorb()\n",
    "finally:\n",
    "    del pg"
   ]
  },
  {
   "cell_type": "code",
   "execution_count": 3,
   "metadata": {},
   "outputs": [
    {
     "name": "stdout",
     "output_type": "stream",
     "text": [
      "Connection established\n"
     ]
    },
    {
     "name": "stderr",
     "output_type": "stream",
     "text": [
      "  0%|                                                                            | 65/193172 [00:10<7:08:05,  7.52it/s]"
     ]
    },
    {
     "name": "stdout",
     "output_type": "stream",
     "text": [
      "[25586, 25587]\n"
     ]
    },
    {
     "name": "stderr",
     "output_type": "stream",
     "text": [
      "  0%|                                                                           | 212/193172 [00:30<7:15:22,  7.39it/s]"
     ]
    },
    {
     "ename": "KeyboardInterrupt",
     "evalue": "",
     "output_type": "error",
     "traceback": [
      "\u001b[1;31m---------------------------------------------------------------------------\u001b[0m",
      "\u001b[1;31mKeyboardInterrupt\u001b[0m                         Traceback (most recent call last)",
      "\u001b[1;32m<ipython-input-3-47acab6ee522>\u001b[0m in \u001b[0;36m<module>\u001b[1;34m\u001b[0m\n\u001b[0;32m      1\u001b[0m \u001b[1;32mtry\u001b[0m\u001b[1;33m:\u001b[0m\u001b[1;33m\u001b[0m\u001b[1;33m\u001b[0m\u001b[0m\n\u001b[0;32m      2\u001b[0m     \u001b[0mpg\u001b[0m \u001b[1;33m=\u001b[0m \u001b[0mPgscl\u001b[0m\u001b[1;33m(\u001b[0m\u001b[1;33m)\u001b[0m\u001b[1;33m\u001b[0m\u001b[1;33m\u001b[0m\u001b[0m\n\u001b[1;32m----> 3\u001b[1;33m     \u001b[0mpg\u001b[0m\u001b[1;33m.\u001b[0m\u001b[0mForm_two_uni\u001b[0m\u001b[1;33m(\u001b[0m\u001b[1;34m\"CERN\"\u001b[0m\u001b[1;33m,\u001b[0m \u001b[1;34m\"Fermilab\"\u001b[0m\u001b[1;33m)\u001b[0m\u001b[1;33m\u001b[0m\u001b[1;33m\u001b[0m\u001b[0m\n\u001b[0m\u001b[0;32m      4\u001b[0m \u001b[1;32mfinally\u001b[0m\u001b[1;33m:\u001b[0m\u001b[1;33m\u001b[0m\u001b[1;33m\u001b[0m\u001b[0m\n\u001b[0;32m      5\u001b[0m     \u001b[1;32mdel\u001b[0m \u001b[0mpg\u001b[0m\u001b[1;33m\u001b[0m\u001b[1;33m\u001b[0m\u001b[0m\n",
      "\u001b[1;32m<ipython-input-2-749ee734587a>\u001b[0m in \u001b[0;36mForm_two_uni\u001b[1;34m(self, uni1, uni2)\u001b[0m\n\u001b[0;32m    128\u001b[0m         \u001b[1;32mfor\u001b[0m \u001b[0mrow\u001b[0m \u001b[1;32min\u001b[0m \u001b[0mres\u001b[0m\u001b[1;33m:\u001b[0m\u001b[1;33m\u001b[0m\u001b[1;33m\u001b[0m\u001b[0m\n\u001b[0;32m    129\u001b[0m             \u001b[0mauth\u001b[0m \u001b[1;33m=\u001b[0m \u001b[1;33m[\u001b[0m\u001b[1;33m]\u001b[0m\u001b[1;33m\u001b[0m\u001b[1;33m\u001b[0m\u001b[0m\n\u001b[1;32m--> 130\u001b[1;33m             \u001b[0mself\u001b[0m\u001b[1;33m.\u001b[0m\u001b[0m__cursor\u001b[0m\u001b[1;33m.\u001b[0m\u001b[0mexecute\u001b[0m\u001b[1;33m(\u001b[0m\u001b[1;34m\"SELECT author_id, uni_ids FROM art_auth WHERE article_id = %s\"\u001b[0m\u001b[1;33m,\u001b[0m \u001b[1;33m(\u001b[0m\u001b[0mint\u001b[0m\u001b[1;33m(\u001b[0m\u001b[0mrow\u001b[0m\u001b[1;33m[\u001b[0m\u001b[1;36m0\u001b[0m\u001b[1;33m]\u001b[0m\u001b[1;33m)\u001b[0m\u001b[1;33m,\u001b[0m \u001b[1;33m)\u001b[0m\u001b[1;33m)\u001b[0m\u001b[1;33m\u001b[0m\u001b[1;33m\u001b[0m\u001b[0m\n\u001b[0m\u001b[0;32m    131\u001b[0m             \u001b[1;32mfor\u001b[0m \u001b[0mrow1\u001b[0m \u001b[1;32min\u001b[0m \u001b[0mself\u001b[0m\u001b[1;33m.\u001b[0m\u001b[0m__cursor\u001b[0m\u001b[1;33m:\u001b[0m\u001b[1;33m\u001b[0m\u001b[1;33m\u001b[0m\u001b[0m\n\u001b[0;32m    132\u001b[0m                 \u001b[1;32mif\u001b[0m \u001b[0mrow1\u001b[0m\u001b[1;33m[\u001b[0m\u001b[1;36m1\u001b[0m\u001b[1;33m]\u001b[0m\u001b[1;33m.\u001b[0m\u001b[0mcount\u001b[0m\u001b[1;33m(\u001b[0m\u001b[0mu1\u001b[0m\u001b[1;33m)\u001b[0m \u001b[1;33m!=\u001b[0m \u001b[1;36m0\u001b[0m \u001b[1;32mor\u001b[0m \u001b[0mrow1\u001b[0m\u001b[1;33m[\u001b[0m\u001b[1;36m1\u001b[0m\u001b[1;33m]\u001b[0m\u001b[1;33m.\u001b[0m\u001b[0mcount\u001b[0m\u001b[1;33m(\u001b[0m\u001b[0mu2\u001b[0m\u001b[1;33m)\u001b[0m \u001b[1;33m!=\u001b[0m \u001b[1;36m0\u001b[0m\u001b[1;33m:\u001b[0m\u001b[1;33m\u001b[0m\u001b[1;33m\u001b[0m\u001b[0m\n",
      "\u001b[1;32mc:\\users\\zykin\\appdata\\local\\programs\\python\\python38-32\\lib\\encodings\\utf_8.py\u001b[0m in \u001b[0;36mdecode\u001b[1;34m(input, errors)\u001b[0m\n\u001b[0;32m     13\u001b[0m \u001b[0mencode\u001b[0m \u001b[1;33m=\u001b[0m \u001b[0mcodecs\u001b[0m\u001b[1;33m.\u001b[0m\u001b[0mutf_8_encode\u001b[0m\u001b[1;33m\u001b[0m\u001b[1;33m\u001b[0m\u001b[0m\n\u001b[0;32m     14\u001b[0m \u001b[1;33m\u001b[0m\u001b[0m\n\u001b[1;32m---> 15\u001b[1;33m \u001b[1;32mdef\u001b[0m \u001b[0mdecode\u001b[0m\u001b[1;33m(\u001b[0m\u001b[0minput\u001b[0m\u001b[1;33m,\u001b[0m \u001b[0merrors\u001b[0m\u001b[1;33m=\u001b[0m\u001b[1;34m'strict'\u001b[0m\u001b[1;33m)\u001b[0m\u001b[1;33m:\u001b[0m\u001b[1;33m\u001b[0m\u001b[1;33m\u001b[0m\u001b[0m\n\u001b[0m\u001b[0;32m     16\u001b[0m     \u001b[1;32mreturn\u001b[0m \u001b[0mcodecs\u001b[0m\u001b[1;33m.\u001b[0m\u001b[0mutf_8_decode\u001b[0m\u001b[1;33m(\u001b[0m\u001b[0minput\u001b[0m\u001b[1;33m,\u001b[0m \u001b[0merrors\u001b[0m\u001b[1;33m,\u001b[0m \u001b[1;32mTrue\u001b[0m\u001b[1;33m)\u001b[0m\u001b[1;33m\u001b[0m\u001b[1;33m\u001b[0m\u001b[0m\n\u001b[0;32m     17\u001b[0m \u001b[1;33m\u001b[0m\u001b[0m\n",
      "\u001b[1;31mKeyboardInterrupt\u001b[0m: "
     ]
    }
   ],
   "source": [
    "try:\n",
    "    pg = Pgscl()\n",
    "    pg.Form_two_uni(\"CERN\", \"Fermilab\")\n",
    "finally:\n",
    "    del pg"
   ]
  },
  {
   "cell_type": "markdown",
   "metadata": {},
   "source": [
    "Code that downloads to Postgresql articles written in 2012-2019 years"
   ]
  },
  {
   "cell_type": "code",
   "execution_count": null,
   "metadata": {},
   "outputs": [],
   "source": [
    "pg = Pgscl()\n",
    "try:\n",
    "    for year in range(2012,2020):\n",
    "        i = 0\n",
    "        while 1:\n",
    "            url = 'https://inspirehep.net/search?p=find jy ' + str(year) + \\\n",
    "'&of=recjson&ot=recid,primary_report_number,title,creation_date,publication_info,reference,authors&rg=250&jrec=' + \\\n",
    "                str(i+1)\n",
    "            response = requests.get(url)\n",
    "            if response.content != b'':\n",
    "                kuku = response.content.decode('UTF-8')\n",
    "                raw = response.json() \n",
    "                for raw_one in raw:\n",
    "                    i += 1\n",
    "                    pg.insert(json.dumps(raw_one))\n",
    "                if i % 250:\n",
    "                    break\n",
    "    pg.del_dups()\n",
    "finally:\n",
    "    del pg"
   ]
  },
  {
   "cell_type": "markdown",
   "metadata": {},
   "source": [
    "Code that deletes duplicates (faster than in postgres)"
   ]
  },
  {
   "cell_type": "code",
   "execution_count": null,
   "metadata": {},
   "outputs": [],
   "source": [
    "pg = Pgscl()\n",
    "try:\n",
    "    pg.del_dups()\n",
    "finally:\n",
    "    del pg"
   ]
  }
 ],
 "metadata": {
  "kernelspec": {
   "display_name": "Python 3",
   "language": "python",
   "name": "python3"
  },
  "language_info": {
   "codemirror_mode": {
    "name": "ipython",
    "version": 3
   },
   "file_extension": ".py",
   "mimetype": "text/x-python",
   "name": "python",
   "nbconvert_exporter": "python",
   "pygments_lexer": "ipython3",
   "version": "3.8.1"
  }
 },
 "nbformat": 4,
 "nbformat_minor": 2
}
